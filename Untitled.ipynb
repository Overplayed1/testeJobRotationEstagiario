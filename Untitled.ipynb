{
 "cells": [
  {
   "cell_type": "code",
   "execution_count": null,
   "id": "293f8208",
   "metadata": {},
   "outputs": [],
   "source": [
    "#2\n",
    "\n",
    "n = int(input(\"Qual numero deseja saber se está na sequência? \"))\n",
    "ultimo=1\n",
    "penultimo=0\n",
    "cont=3\n",
    "\n",
    "while cont <= n:\n",
    "    i = penultimo + ultimo\n",
    "    penultimo = ultimo\n",
    "    ultimo = i\n",
    "    cont = cont + 1\n",
    "    print (i)\n",
    "    if (n == i):\n",
    "        print(\"Pertence a sequência\")\n",
    "        break\n",
    "    elif (n < i):\n",
    "        print(\"Não pertence a sequência\")\n",
    "        break\n",
    "    \n",
    "    \n"
   ]
  },
  {
   "cell_type": "code",
   "execution_count": 109,
   "id": "f97a65ba",
   "metadata": {},
   "outputs": [
    {
     "name": "stdout",
     "output_type": "stream",
     "text": [
      "O maior valor de faturamento foi: R$48924.2448 no dia 16\n",
      "O menor valor de faturamento foi: R$373.7838 no dia 14\n",
      "Nos dias: 1, 2, 3, 6, 8, 9, 16, 17, 20, 21, 22, 27, o faturamento foi maior que a média mensal\n"
     ]
    }
   ],
   "source": [
    "#3\n",
    "import json\n",
    "\n",
    "data = open('dados.json')\n",
    "dados = json.load(data)\n",
    "#display(dados)\n",
    "\n",
    "aux=0\n",
    "maior=0\n",
    "menor=0\n",
    "media=0\n",
    "soma=0\n",
    "d1=0\n",
    "d2=0\n",
    "\n",
    "for dia in dados:\n",
    "    \n",
    "    if(dia['valor']) != 0:\n",
    "        aux= dia['valor']\n",
    "        \n",
    "        if(aux>maior):\n",
    "            maior=aux\n",
    "            d1=dia['dia']\n",
    "        \n",
    "        if(menor == 0):\n",
    "            menor = aux\n",
    "            d2=dia['dia']\n",
    "        elif (aux < menor):\n",
    "            menor = aux\n",
    "            d2=dia['dia']\n",
    "            \n",
    "        soma = soma + dia['valor']\n",
    "        \n",
    "print('O maior valor de faturamento foi: R$' + str(maior) + ' no dia ' + str(d1))\n",
    "print('O menor valor de faturamento foi: R$' + str(menor) + ' no dia ' + str(d2))\n",
    "\n",
    "media = soma / len(dados)\n",
    "\n",
    "diasFaturamento = ''\n",
    "\n",
    "for i in dados:\n",
    "    if (i['valor']) != 0:\n",
    "        if (i['valor'] > media):\n",
    "            diasFaturamento = diasFaturamento + (str(i['dia']) + ', ')\n",
    "            \n",
    "            \n",
    "print('Nos dias: ' + diasFaturamento + 'o faturamento foi maior que a média mensal')"
   ]
  },
  {
   "cell_type": "code",
   "execution_count": 114,
   "id": "3317335c",
   "metadata": {},
   "outputs": [
    {
     "name": "stdout",
     "output_type": "stream",
     "text": [
      "Faturamento de SP:37.53%\n",
      "Faturamento de RJ:20.29%\n",
      "Faturamento de MG:16.17%\n",
      "Faturamento de ES:15.03%\n",
      "Faturamento de outros:10.98%\n"
     ]
    }
   ],
   "source": [
    "#4\n",
    "def porcento(est, tot):\n",
    "    return round(((100 * est)/total),2)\n",
    "\n",
    "SP = 67836.43\n",
    "RJ = 36678.66\n",
    "MG = 29229.88\n",
    "ES = 27165.48\n",
    "outros = 19849.53\n",
    "\n",
    "total = SP + RJ + MG + ES + outros\n",
    "\n",
    "print(\"Faturamento de SP:\" + str(porcento(SP, total)) + '%')\n",
    "print(\"Faturamento de RJ:\" + str(porcento(RJ, total)) + '%')\n",
    "print(\"Faturamento de MG:\" + str(porcento(MG, total)) + '%')\n",
    "print(\"Faturamento de ES:\" + str(porcento(ES, total)) + '%')\n",
    "print(\"Faturamento de outros:\" + str(porcento(outros, total)) + '%')"
   ]
  },
  {
   "cell_type": "code",
   "execution_count": 116,
   "id": "ca6d4870",
   "metadata": {},
   "outputs": [
    {
     "name": "stdout",
     "output_type": "stream",
     "text": [
      "Digite uma palavra: Lucas\n",
      "A palavra invertida fica: sacuL\n"
     ]
    }
   ],
   "source": [
    "#5\n",
    "\n",
    "palavraNormal = input('Digite uma palavra: ')\n",
    "\n",
    "caracteres = []\n",
    "\n",
    "palavraInvertida = ''\n",
    "\n",
    "for letra in palavraNormal:\n",
    "    caracteres.append(letra)\n",
    "\n",
    "tamanho = len(caracteres) - 1\n",
    "\n",
    "while tamanho >= 0:\n",
    "    palavraInvertida = palavraInvertida + (caracteres[tamanho])\n",
    "    tamanho = tamanho - 1\n",
    "    \n",
    "print(\"A palavra invertida fica: \" + palavraInvertida)\n"
   ]
  },
  {
   "cell_type": "code",
   "execution_count": null,
   "id": "345c67b7",
   "metadata": {},
   "outputs": [],
   "source": []
  }
 ],
 "metadata": {
  "kernelspec": {
   "display_name": "Python 3 (ipykernel)",
   "language": "python",
   "name": "python3"
  },
  "language_info": {
   "codemirror_mode": {
    "name": "ipython",
    "version": 3
   },
   "file_extension": ".py",
   "mimetype": "text/x-python",
   "name": "python",
   "nbconvert_exporter": "python",
   "pygments_lexer": "ipython3",
   "version": "3.9.12"
  }
 },
 "nbformat": 4,
 "nbformat_minor": 5
}
